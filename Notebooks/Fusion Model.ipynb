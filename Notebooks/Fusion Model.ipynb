{
 "cells": [
  {
   "cell_type": "code",
   "execution_count": 1,
   "metadata": {},
   "outputs": [
    {
     "data": {
      "application/javascript": [
       "IPython.notebook.set_autosave_interval(2000)"
      ]
     },
     "metadata": {},
     "output_type": "display_data"
    },
    {
     "name": "stdout",
     "output_type": "stream",
     "text": [
      "Autosaving every 2 seconds\n"
     ]
    }
   ],
   "source": [
    "%load_ext autoreload\n",
    "%autoreload 2\n",
    "%autosave 2"
   ]
  },
  {
   "cell_type": "code",
   "execution_count": 2,
   "metadata": {},
   "outputs": [],
   "source": [
    "from SceneR2.dataset import *\n",
    "from SceneR2.models import ResLSTM\n",
    "import SceneR2\n",
    "from SceneR2.learners import ParallelLearner, ModelLearner\n",
    "from SceneR2 import loss"
   ]
  },
  {
   "cell_type": "code",
   "execution_count": 3,
   "metadata": {},
   "outputs": [
    {
     "data": {
      "text/plain": [
       "'../data/Daimler/100_vids/videos'"
      ]
     },
     "execution_count": 3,
     "metadata": {},
     "output_type": "execute_result"
    }
   ],
   "source": [
    "globalVariables.path_to_vids"
   ]
  },
  {
   "cell_type": "code",
   "execution_count": 4,
   "metadata": {},
   "outputs": [
    {
     "data": {
      "text/plain": [
       "'../data/Daimler/100_vids/videos_180p'"
      ]
     },
     "execution_count": 4,
     "metadata": {},
     "output_type": "execute_result"
    }
   ],
   "source": [
    "# Set video_180p as video path for smaller videos\n",
    "globalVariables.path_to_vids='Daimler/100_vids/videos_180p'\n",
    "globalVariables.path_to_vids"
   ]
  },
  {
   "cell_type": "code",
   "execution_count": 5,
   "metadata": {
    "deletable": false,
    "editable": false,
    "run_control": {
     "frozen": true
    },
    "scrolled": true
   },
   "outputs": [
    {
     "name": "stderr",
     "output_type": "stream",
     "text": [
      "100%|██████████| 132/132 [01:20<00:00,  1.64it/s]\n",
      "100%|██████████| 29/29 [00:17<00:00,  1.64it/s]\n"
     ]
    }
   ],
   "source": [
    "np.random.seed(10) #seting seed for always selecting same train and test set\n",
    "files = glob(os.path.join(globalVariables.path_to_csv, '*.csv'))\n",
    "totalFiles=len(files)\n",
    "testFiles=np.random.choice(totalFiles, int(0.2*totalFiles)) #20% files as test files\n",
    "trainLoader=torch.utils.data.DataLoader(FusionData([d for i,d in enumerate(files) if i not in testFiles]))\n",
    "testLoader=torch.utils.data.DataLoader(FusionData([d for i,d in enumerate(files) if i in testFiles]))"
   ]
  },
  {
   "cell_type": "code",
   "execution_count": null,
   "metadata": {
    "deletable": false,
    "editable": false,
    "run_control": {
     "frozen": true
    }
   },
   "outputs": [],
   "source": [
    "os.makedirs('../data/Daimler/100_vids/pickled_SceneR2_dataloader/Fusion/29Mar', exist_ok=True)\n",
    "with open(\"../data/Daimler/100_vids/pickled_SceneR2_dataloader/Fusion/29Mar/train\", 'wb') as f:\n",
    "    pickle.dump(trainLoader, f)\n",
    "with open(\"../data/Daimler/100_vids/pickled_SceneR2_dataloader/Fusion/29Mar/test\", 'wb') as f:\n",
    "    pickle.dump(testLoader, f)"
   ]
  },
  {
   "cell_type": "code",
   "execution_count": 5,
   "metadata": {},
   "outputs": [],
   "source": [
    "with open(\"../data/Daimler/100_vids/pickled_SceneR2_dataloader/Fusion/29Mar/train\", 'rb') as f:\n",
    "    trainLoader=pickle.load(f)\n",
    "with open(\"../data/Daimler/100_vids/pickled_SceneR2_dataloader/Fusion/29Mar/test\", 'rb') as f:\n",
    "    testLoader=pickle.load(f)"
   ]
  },
  {
   "cell_type": "code",
   "execution_count": 6,
   "metadata": {},
   "outputs": [
    {
     "data": {
      "text/plain": [
       "(288, 3, 180, 240)"
      ]
     },
     "execution_count": 6,
     "metadata": {},
     "output_type": "execute_result"
    }
   ],
   "source": [
    "trainLoader.dataset[0][0][0].shape # Shape of Video Sequence"
   ]
  },
  {
   "cell_type": "code",
   "execution_count": 7,
   "metadata": {},
   "outputs": [
    {
     "data": {
      "text/plain": [
       "(288, 4)"
      ]
     },
     "execution_count": 7,
     "metadata": {},
     "output_type": "execute_result"
    }
   ],
   "source": [
    "trainLoader.dataset[0][0][1].shape # Shape of CAN Data"
   ]
  },
  {
   "cell_type": "code",
   "execution_count": 8,
   "metadata": {},
   "outputs": [],
   "source": [
    "learner=ParallelLearner(\n",
    "                [ModelLearner(ResLSTM(3, input_shape=(180,240)), lr=0.001, loss_fn=loss.FocalMSE, \n",
    "                              optim=torch.optim.SGD, modelName='Fusion_1' )\n",
    "                ],\n",
    "        epochs=10, trainLoader=trainLoader, validLoader=testLoader)"
   ]
  },
  {
   "cell_type": "code",
   "execution_count": 9,
   "metadata": {
    "scrolled": false
   },
   "outputs": [
    {
     "data": {
      "application/vnd.jupyter.widget-view+json": {
       "model_id": "195c54da742e42f69622ce4bd1a7ae43",
       "version_major": 2,
       "version_minor": 0
      },
      "text/plain": [
       "HBox(children=(IntProgress(value=0), HTML(value='')))"
      ]
     },
     "metadata": {},
     "output_type": "display_data"
    },
    {
     "name": "stderr",
     "output_type": "stream",
     "text": [
      "                                                                                "
     ]
    },
    {
     "name": "stdout",
     "output_type": "stream",
     "text": [
      "\n"
     ]
    },
    {
     "name": "stderr",
     "output_type": "stream",
     "text": [
      "\r"
     ]
    }
   ],
   "source": [
    "learner.train(100)"
   ]
  },
  {
   "cell_type": "code",
   "execution_count": 10,
   "metadata": {},
   "outputs": [],
   "source": [
    "l=learner.learners[0]"
   ]
  },
  {
   "cell_type": "code",
   "execution_count": 14,
   "metadata": {},
   "outputs": [
    {
     "data": {
      "text/plain": [
       "array([[49,  2,  0],\n",
       "       [30, 20,  0],\n",
       "       [16,  0, 13]], dtype=int32)"
      ]
     },
     "execution_count": 14,
     "metadata": {},
     "output_type": "execute_result"
    }
   ],
   "source": [
    "l.train_confusion_matrix_list[-1]"
   ]
  },
  {
   "cell_type": "code",
   "execution_count": 15,
   "metadata": {},
   "outputs": [
    {
     "data": {
      "text/plain": [
       "array([[4, 6, 0],\n",
       "       [7, 5, 0],\n",
       "       [3, 3, 0]], dtype=int32)"
      ]
     },
     "execution_count": 15,
     "metadata": {},
     "output_type": "execute_result"
    }
   ],
   "source": [
    "l.valid_confusion_matrix_list[-1]"
   ]
  },
  {
   "cell_type": "code",
   "execution_count": 13,
   "metadata": {},
   "outputs": [
    {
     "data": {
      "image/png": "[encoded data removed]",
      "text/plain": [
       "<Figure size 432x288 with 1 Axes>"
      ]
     },
     "metadata": {},
     "output_type": "display_data"
    }
   ],
   "source": [
    "learner.plotLoss()"
   ]
  },
  {
   "cell_type": "code",
   "execution_count": null,
   "metadata": {},
   "outputs": [],
   "source": [
    "l.tra"
   ]
  }
 ],
 "metadata": {
  "kernelspec": {
   "display_name": "Python 3",
   "language": "python",
   "name": "python3"
  },
  "language_info": {
   "codemirror_mode": {
    "name": "ipython",
    "version": 3
   },
   "file_extension": ".py",
   "mimetype": "text/x-python",
   "name": "python",
   "nbconvert_exporter": "python",
   "pygments_lexer": "ipython3",
   "version": "3.6.5"
  }
 },
 "nbformat": 4,
 "nbformat_minor": 2
}
